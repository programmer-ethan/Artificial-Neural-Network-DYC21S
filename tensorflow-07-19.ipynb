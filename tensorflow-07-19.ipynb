{
 "cells": [
  {
   "cell_type": "code",
   "execution_count": 1,
   "id": "6314e35b",
   "metadata": {},
   "outputs": [],
   "source": [
    "import tensorflow as tf"
   ]
  },
  {
   "cell_type": "code",
   "execution_count": 2,
   "id": "64553f66",
   "metadata": {},
   "outputs": [],
   "source": [
    "from tensorflow import keras"
   ]
  },
  {
   "cell_type": "code",
   "execution_count": 3,
   "id": "ca272857",
   "metadata": {},
   "outputs": [
    {
     "data": {
      "text/plain": [
       "'2.5.0'"
      ]
     },
     "execution_count": 3,
     "metadata": {},
     "output_type": "execute_result"
    }
   ],
   "source": [
    "keras.__version__"
   ]
  },
  {
   "cell_type": "code",
   "execution_count": 4,
   "id": "5bbf57a9",
   "metadata": {},
   "outputs": [
    {
     "data": {
      "text/plain": [
       "'2.5.0'"
      ]
     },
     "execution_count": 4,
     "metadata": {},
     "output_type": "execute_result"
    }
   ],
   "source": [
    "tf.__version__"
   ]
  },
  {
   "cell_type": "code",
   "execution_count": 5,
   "id": "a6feb573",
   "metadata": {},
   "outputs": [],
   "source": [
    "from sklearn.datasets import load_iris"
   ]
  },
  {
   "cell_type": "code",
   "execution_count": 6,
   "id": "fa1e5b9d",
   "metadata": {},
   "outputs": [],
   "source": [
    "iris = load_iris()\n",
    "X, y_ori = iris.data, iris.target\n",
    "\n",
    "from tensorflow.keras.utils import to_categorical\n",
    "y = to_categorical(y_ori,3)"
   ]
  },
  {
   "cell_type": "code",
   "execution_count": 7,
   "id": "914fbec1",
   "metadata": {},
   "outputs": [],
   "source": [
    "from sklearn.model_selection import train_test_split\n",
    "\n",
    "X_train, X_test, y_train, y_test = train_test_split(X,y,test_size=0.3,random_state=0)"
   ]
  },
  {
   "cell_type": "code",
   "execution_count": 8,
   "id": "4fa3e927",
   "metadata": {},
   "outputs": [],
   "source": [
    "from keras.models import Sequential"
   ]
  },
  {
   "cell_type": "code",
   "execution_count": 9,
   "id": "74f3dfdb",
   "metadata": {},
   "outputs": [],
   "source": [
    "from keras.layers import Dense\n",
    "model= Sequential()\n",
    "model.add(Dense(units=8, input_dim=4, kernel_initializer=\"uniform\",activation=\"relu\"))\n",
    "model.add(Dense(units=3, activation=\"softmax\"))"
   ]
  },
  {
   "cell_type": "code",
   "execution_count": 10,
   "id": "5c6b55d3",
   "metadata": {},
   "outputs": [],
   "source": [
    "model.compile(loss='categorical_crossentropy', optimizer = 'adam', metrics=['accuracy'])"
   ]
  },
  {
   "cell_type": "code",
   "execution_count": 11,
   "id": "24958a4b",
   "metadata": {},
   "outputs": [
    {
     "name": "stdout",
     "output_type": "stream",
     "text": [
      "Model: \"sequential\"\n",
      "_________________________________________________________________\n",
      "Layer (type)                 Output Shape              Param #   \n",
      "=================================================================\n",
      "dense (Dense)                (None, 8)                 40        \n",
      "_________________________________________________________________\n",
      "dense_1 (Dense)              (None, 3)                 27        \n",
      "=================================================================\n",
      "Total params: 67\n",
      "Trainable params: 67\n",
      "Non-trainable params: 0\n",
      "_________________________________________________________________\n"
     ]
    }
   ],
   "source": [
    "model.summary()"
   ]
  },
  {
   "cell_type": "code",
   "execution_count": 12,
   "id": "f2e04e11",
   "metadata": {},
   "outputs": [],
   "source": [
    "hist = model.fit(X_train, y_train,epochs=100, batch_size=1, verbose=0)"
   ]
  },
  {
   "cell_type": "code",
   "execution_count": 13,
   "id": "b52174c5",
   "metadata": {
    "collapsed": true
   },
   "outputs": [
    {
     "data": {
      "text/plain": [
       "[0.37142857909202576,\n",
       " 0.6095238327980042,\n",
       " 0.6952381134033203,\n",
       " 0.6952381134033203,\n",
       " 0.6952381134033203,\n",
       " 0.7047619223594666,\n",
       " 0.6952381134033203,\n",
       " 0.7333333492279053,\n",
       " 0.7428571581840515,\n",
       " 0.8190476298332214,\n",
       " 0.8190476298332214,\n",
       " 0.8380952477455139,\n",
       " 0.9238095283508301,\n",
       " 0.9142857193946838,\n",
       " 0.9333333373069763,\n",
       " 0.9333333373069763,\n",
       " 0.9523809552192688,\n",
       " 0.9523809552192688,\n",
       " 0.9714285731315613,\n",
       " 0.961904764175415,\n",
       " 0.9428571462631226,\n",
       " 0.961904764175415,\n",
       " 0.961904764175415,\n",
       " 0.9523809552192688,\n",
       " 0.9714285731315613,\n",
       " 0.961904764175415,\n",
       " 0.9714285731315613,\n",
       " 0.961904764175415,\n",
       " 0.961904764175415,\n",
       " 0.9714285731315613,\n",
       " 0.961904764175415,\n",
       " 0.961904764175415,\n",
       " 0.961904764175415,\n",
       " 0.9523809552192688,\n",
       " 0.961904764175415,\n",
       " 0.9714285731315613,\n",
       " 0.9809523820877075,\n",
       " 0.961904764175415,\n",
       " 0.9714285731315613,\n",
       " 0.9714285731315613,\n",
       " 0.9714285731315613,\n",
       " 0.961904764175415,\n",
       " 0.9714285731315613,\n",
       " 0.9523809552192688,\n",
       " 0.961904764175415,\n",
       " 0.9714285731315613,\n",
       " 0.9809523820877075,\n",
       " 0.961904764175415,\n",
       " 0.9523809552192688,\n",
       " 0.961904764175415,\n",
       " 0.9809523820877075,\n",
       " 0.961904764175415,\n",
       " 0.9809523820877075,\n",
       " 0.961904764175415,\n",
       " 0.961904764175415,\n",
       " 0.9809523820877075,\n",
       " 0.961904764175415,\n",
       " 0.961904764175415,\n",
       " 0.961904764175415,\n",
       " 0.961904764175415,\n",
       " 0.9714285731315613,\n",
       " 0.961904764175415,\n",
       " 0.9523809552192688,\n",
       " 0.9714285731315613,\n",
       " 0.9714285731315613,\n",
       " 0.9714285731315613,\n",
       " 0.9714285731315613,\n",
       " 0.961904764175415,\n",
       " 0.961904764175415,\n",
       " 0.9714285731315613,\n",
       " 0.9714285731315613,\n",
       " 0.961904764175415,\n",
       " 0.9714285731315613,\n",
       " 0.9523809552192688,\n",
       " 0.961904764175415,\n",
       " 0.961904764175415,\n",
       " 0.9523809552192688,\n",
       " 0.9714285731315613,\n",
       " 0.9809523820877075,\n",
       " 0.961904764175415,\n",
       " 0.9714285731315613,\n",
       " 0.961904764175415,\n",
       " 0.9904761910438538,\n",
       " 0.9714285731315613,\n",
       " 0.9714285731315613,\n",
       " 0.9809523820877075,\n",
       " 0.961904764175415,\n",
       " 1.0,\n",
       " 0.9809523820877075,\n",
       " 0.961904764175415,\n",
       " 0.9714285731315613,\n",
       " 0.9809523820877075,\n",
       " 0.961904764175415,\n",
       " 0.9714285731315613,\n",
       " 0.9714285731315613,\n",
       " 0.9809523820877075,\n",
       " 0.9714285731315613,\n",
       " 0.961904764175415,\n",
       " 0.9714285731315613,\n",
       " 0.9714285731315613]"
      ]
     },
     "execution_count": 13,
     "metadata": {},
     "output_type": "execute_result"
    }
   ],
   "source": [
    "hist.history['accuracy']"
   ]
  },
  {
   "cell_type": "code",
   "execution_count": 14,
   "id": "62b86769",
   "metadata": {
    "collapsed": true
   },
   "outputs": [
    {
     "data": {
      "text/plain": [
       "[1.0456069707870483,\n",
       " 0.9745373129844666,\n",
       " 0.8987712860107422,\n",
       " 0.8186166882514954,\n",
       " 0.7434324622154236,\n",
       " 0.6762847900390625,\n",
       " 0.6138074398040771,\n",
       " 0.564826250076294,\n",
       " 0.5211547613143921,\n",
       " 0.4835233688354492,\n",
       " 0.44859665632247925,\n",
       " 0.4214111268520355,\n",
       " 0.3976426124572754,\n",
       " 0.3740876317024231,\n",
       " 0.35225749015808105,\n",
       " 0.34663331508636475,\n",
       " 0.31878796219825745,\n",
       " 0.30906182527542114,\n",
       " 0.29861563444137573,\n",
       " 0.28752413392066956,\n",
       " 0.27406877279281616,\n",
       " 0.26284340023994446,\n",
       " 0.2489883303642273,\n",
       " 0.24899891018867493,\n",
       " 0.23204271495342255,\n",
       " 0.22937124967575073,\n",
       " 0.22732403874397278,\n",
       " 0.21338596940040588,\n",
       " 0.20837140083312988,\n",
       " 0.1966618299484253,\n",
       " 0.1962764859199524,\n",
       " 0.1900157928466797,\n",
       " 0.19041188061237335,\n",
       " 0.1762734353542328,\n",
       " 0.17739933729171753,\n",
       " 0.16454483568668365,\n",
       " 0.1644396334886551,\n",
       " 0.16386853158473969,\n",
       " 0.1526213437318802,\n",
       " 0.15049095451831818,\n",
       " 0.1484740525484085,\n",
       " 0.14494164288043976,\n",
       " 0.13981744647026062,\n",
       " 0.14163480699062347,\n",
       " 0.1403539627790451,\n",
       " 0.13172607123851776,\n",
       " 0.12511475384235382,\n",
       " 0.13353951275348663,\n",
       " 0.13111083209514618,\n",
       " 0.13026799261569977,\n",
       " 0.12277751415967941,\n",
       " 0.11974159628152847,\n",
       " 0.11451525241136551,\n",
       " 0.12029100954532623,\n",
       " 0.11604022234678268,\n",
       " 0.11093611270189285,\n",
       " 0.10885022580623627,\n",
       " 0.1105813980102539,\n",
       " 0.11164692789316177,\n",
       " 0.10861236602067947,\n",
       " 0.10635417699813843,\n",
       " 0.10546385496854782,\n",
       " 0.10147504508495331,\n",
       " 0.10427223145961761,\n",
       " 0.09910658001899719,\n",
       " 0.09867986291646957,\n",
       " 0.10223982483148575,\n",
       " 0.09760276228189468,\n",
       " 0.09719455242156982,\n",
       " 0.09751813113689423,\n",
       " 0.093761146068573,\n",
       " 0.09174522012472153,\n",
       " 0.09790825843811035,\n",
       " 0.0947616919875145,\n",
       " 0.09517534077167511,\n",
       " 0.0885135754942894,\n",
       " 0.0954560860991478,\n",
       " 0.08917682617902756,\n",
       " 0.0909966230392456,\n",
       " 0.08584429323673248,\n",
       " 0.08106779307126999,\n",
       " 0.09915311634540558,\n",
       " 0.08845021575689316,\n",
       " 0.08800996840000153,\n",
       " 0.0858268067240715,\n",
       " 0.08182252943515778,\n",
       " 0.0858558639883995,\n",
       " 0.07178390026092529,\n",
       " 0.09099292755126953,\n",
       " 0.0891815572977066,\n",
       " 0.08258582651615143,\n",
       " 0.07595742493867874,\n",
       " 0.08312740921974182,\n",
       " 0.08043123781681061,\n",
       " 0.08107265830039978,\n",
       " 0.07877644151449203,\n",
       " 0.0774490237236023,\n",
       " 0.07595421373844147,\n",
       " 0.08047090470790863,\n",
       " 0.08111324906349182]"
      ]
     },
     "execution_count": 14,
     "metadata": {},
     "output_type": "execute_result"
    }
   ],
   "source": [
    "hist.history['loss']"
   ]
  },
  {
   "cell_type": "code",
   "execution_count": 15,
   "id": "b7371e45",
   "metadata": {},
   "outputs": [
    {
     "name": "stdout",
     "output_type": "stream",
     "text": [
      "2/2 [==============================] - 1s 3ms/step - loss: 0.1218 - accuracy: 0.9778\n"
     ]
    }
   ],
   "source": [
    "loss, acc = model.evaluate(X_test,y_test)"
   ]
  },
  {
   "cell_type": "code",
   "execution_count": 16,
   "id": "ed6ad5d3",
   "metadata": {},
   "outputs": [
    {
     "name": "stdout",
     "output_type": "stream",
     "text": [
      "손실값: 0.122\n",
      "정확도: 0.978\n"
     ]
    }
   ],
   "source": [
    "print(\"손실값:\", round(loss, 3))\n",
    "print(\"정확도:\",round(acc,3))"
   ]
  },
  {
   "cell_type": "code",
   "execution_count": 17,
   "id": "4a8101e6",
   "metadata": {},
   "outputs": [
    {
     "name": "stdout",
     "output_type": "stream",
     "text": [
      "[[1.28 3.43 2.84 1.81]\n",
      " [3.66 6.79 5.88 3.93]\n",
      " [9.73 2.57 4.64 2.53]]\n"
     ]
    }
   ],
   "source": [
    "from numpy.random import random\n",
    "from numpy import round\n",
    "\n",
    "X_new = round(random([3,4])* 10, 2)\n",
    "print(X_new)"
   ]
  },
  {
   "cell_type": "code",
   "execution_count": 18,
   "id": "6da36dee",
   "metadata": {},
   "outputs": [
    {
     "name": "stdout",
     "output_type": "stream",
     "text": [
      "[[8.3996224e-07 6.6669799e-02 9.3332940e-01]\n",
      " [4.3255213e-17 3.5373585e-05 9.9996459e-01]\n",
      " [7.9986357e-08 6.1408120e-01 3.8591880e-01]]\n"
     ]
    }
   ],
   "source": [
    "y_pred = model.predict(X_new)\n",
    "print(y_pred)"
   ]
  },
  {
   "cell_type": "code",
   "execution_count": 27,
   "id": "4c40bd89",
   "metadata": {},
   "outputs": [],
   "source": [
    "# y_pred_class = model.predict_classes(X_new)\n",
    "# print(y_pred_class)"
   ]
  },
  {
   "cell_type": "code",
   "execution_count": 20,
   "id": "2ac77f1d",
   "metadata": {},
   "outputs": [],
   "source": [
    "import tensorflow as tf\n",
    "from tensorflow import keras\n",
    "from sklearn.datasets import fetch_openml\n",
    "from sklearn.model_selection import train_test_split\n",
    "from sklearn.metrics import accuracy_score, confusion_matrix\n",
    "import numpy as np\n",
    "from tensorflow.keras.utils import to_categorical\n",
    "from keras.models import Sequential\n",
    "from keras.layers import Dense\n",
    "from keras.optimizers import Adam"
   ]
  },
  {
   "cell_type": "code",
   "execution_count": 21,
   "id": "d942364d",
   "metadata": {},
   "outputs": [],
   "source": [
    "mnist = fetch_openml(\"mnist_784\",version=1)\n",
    "X= mnist.data\n",
    "y_ori = mnist.target.astype(np.int)\n",
    "y = to_categorical(y_ori,10)\n",
    "\n",
    "X_train, X_test, y_train, y_test = train_test_split(X,y,test_size=0.3,random_state=1)"
   ]
  },
  {
   "cell_type": "code",
   "execution_count": 22,
   "id": "33c3c3dc",
   "metadata": {},
   "outputs": [],
   "source": [
    "model = Sequential()\n",
    "model.add(Dense(input_dim=784, units=20,activation=\"relu\"))\n",
    "model.add(Dense(units=15, activation=\"relu\"))\n",
    "model.add(Dense(units=10, activation=\"softmax\"))"
   ]
  },
  {
   "cell_type": "code",
   "execution_count": 23,
   "id": "ab3fedd6",
   "metadata": {},
   "outputs": [],
   "source": [
    "model.compile(loss= \"categorical_crossentropy\", optimizer =Adam(learning_rate=0.001) , metrics=[\"accuracy\"])"
   ]
  },
  {
   "cell_type": "code",
   "execution_count": 28,
   "id": "d7107760",
   "metadata": {},
   "outputs": [
    {
     "name": "stdout",
     "output_type": "stream",
     "text": [
      "Model: \"sequential_1\"\n",
      "_________________________________________________________________\n",
      "Layer (type)                 Output Shape              Param #   \n",
      "=================================================================\n",
      "dense_2 (Dense)              (None, 20)                15700     \n",
      "_________________________________________________________________\n",
      "dense_3 (Dense)              (None, 15)                315       \n",
      "_________________________________________________________________\n",
      "dense_4 (Dense)              (None, 10)                160       \n",
      "=================================================================\n",
      "Total params: 16,175\n",
      "Trainable params: 16,175\n",
      "Non-trainable params: 0\n",
      "_________________________________________________________________\n"
     ]
    }
   ],
   "source": [
    "model.summary()"
   ]
  },
  {
   "cell_type": "code",
   "execution_count": 30,
   "id": "9093c6a0",
   "metadata": {},
   "outputs": [
    {
     "name": "stdout",
     "output_type": "stream",
     "text": [
      "Epoch 1/10\n",
      "490/490 - 1s - loss: 0.4224 - accuracy: 0.8816 - val_loss: 0.4659 - val_accuracy: 0.8751\n",
      "Epoch 2/10\n",
      "490/490 - 1s - loss: 0.4074 - accuracy: 0.8865 - val_loss: 0.4475 - val_accuracy: 0.8768\n",
      "Epoch 3/10\n",
      "490/490 - 1s - loss: 0.3982 - accuracy: 0.8877 - val_loss: 0.4694 - val_accuracy: 0.8703\n",
      "Epoch 4/10\n",
      "490/490 - 1s - loss: 0.3949 - accuracy: 0.8903 - val_loss: 0.4486 - val_accuracy: 0.8794\n",
      "Epoch 5/10\n",
      "490/490 - 1s - loss: 0.3854 - accuracy: 0.8926 - val_loss: 0.4290 - val_accuracy: 0.8851\n",
      "Epoch 6/10\n",
      "490/490 - 1s - loss: 0.3730 - accuracy: 0.8967 - val_loss: 0.4344 - val_accuracy: 0.8812\n",
      "Epoch 7/10\n",
      "490/490 - 1s - loss: 0.3702 - accuracy: 0.8963 - val_loss: 0.4219 - val_accuracy: 0.8847\n",
      "Epoch 8/10\n",
      "490/490 - 1s - loss: 0.3600 - accuracy: 0.9007 - val_loss: 0.4219 - val_accuracy: 0.8848\n",
      "Epoch 9/10\n",
      "490/490 - 1s - loss: 0.3484 - accuracy: 0.9046 - val_loss: 0.4190 - val_accuracy: 0.8876\n",
      "Epoch 10/10\n",
      "490/490 - 1s - loss: 0.3406 - accuracy: 0.9060 - val_loss: 0.4095 - val_accuracy: 0.8913\n"
     ]
    }
   ],
   "source": [
    "hist = model.fit(X_train, y_train, validation_data=(X_test,y_test),epochs=10, batch_size =100, verbose=2)"
   ]
  },
  {
   "cell_type": "code",
   "execution_count": 31,
   "id": "9821ba43",
   "metadata": {},
   "outputs": [
    {
     "name": "stdout",
     "output_type": "stream",
     "text": [
      "657/657 [==============================] - 1s 1ms/step - loss: 0.4095 - accuracy: 0.8913\n",
      "loss= 0.4095063805580139\n",
      "accuracy= 0.8913333415985107\n"
     ]
    }
   ],
   "source": [
    "loss, acc = model.evaluate(X_test,y_test)\n",
    "print(\"loss=\",loss)\n",
    "print(\"accuracy=\",acc)"
   ]
  },
  {
   "cell_type": "code",
   "execution_count": 32,
   "id": "353fd7fe",
   "metadata": {},
   "outputs": [
    {
     "name": "stderr",
     "output_type": "stream",
     "text": [
      "C:\\Users\\scarl\\.conda\\envs\\my_tensor\\lib\\site-packages\\keras\\engine\\sequential.py:450: UserWarning: `model.predict_classes()` is deprecated and will be removed after 2021-01-01. Please use instead:* `np.argmax(model.predict(x), axis=-1)`,   if your model does multi-class classification   (e.g. if it uses a `softmax` last-layer activation).* `(model.predict(x) > 0.5).astype(\"int32\")`,   if your model does binary classification   (e.g. if it uses a `sigmoid` last-layer activation).\n",
      "  warnings.warn('`model.predict_classes()` is deprecated and '\n"
     ]
    }
   ],
   "source": [
    "y_pred_class = model.predict_classes(X_test)"
   ]
  },
  {
   "cell_type": "code",
   "execution_count": 33,
   "id": "b80e8a79",
   "metadata": {},
   "outputs": [
    {
     "data": {
      "text/plain": [
       "array([6, 2, 7], dtype=int64)"
      ]
     },
     "execution_count": 33,
     "metadata": {},
     "output_type": "execute_result"
    }
   ],
   "source": [
    "y_pred_class[:3]"
   ]
  },
  {
   "cell_type": "code",
   "execution_count": 34,
   "id": "9a12759f",
   "metadata": {},
   "outputs": [],
   "source": [
    "y_test_class = np.argmax(y_test, axis=-1)"
   ]
  },
  {
   "cell_type": "code",
   "execution_count": 35,
   "id": "94c65b01",
   "metadata": {},
   "outputs": [
    {
     "name": "stdout",
     "output_type": "stream",
     "text": [
      "[[1872    9    4    3   12    2   35    2  132    5]\n",
      " [  14 2165   47   44    4    4    0    7  101    4]\n",
      " [  13   34 1856   25   23    4   46   17   97    9]\n",
      " [   5   23   54 1865    1   73    8   27   78   31]\n",
      " [   3    1   10    5 1946    1   14   14    7   62]\n",
      " [  16   13   14   64   22 1577   29    7  161   20]\n",
      " [  28    2   10    0   22   19 1868    0   50    0]\n",
      " [   4    4   23   10   40    3    1 1979   19   73]\n",
      " [  34   32   21   36   37   25   32    8 1796   27]\n",
      " [   4    0    1   36  149    6    1   47   18 1794]]\n"
     ]
    }
   ],
   "source": [
    "print(confusion_matrix(y_test_class, y_pred_class))"
   ]
  },
  {
   "cell_type": "code",
   "execution_count": 37,
   "id": "934e8d3f",
   "metadata": {},
   "outputs": [],
   "source": [
    "# dir(keras.optimizers)\n",
    "\n",
    "# optimizer = RMSProp()\n",
    "# optimizer = SGD()\n",
    "\n",
    "# optimizer = \"rmsprop\"\n",
    "# optimizer = \"sgd\""
   ]
  },
  {
   "cell_type": "code",
   "execution_count": 39,
   "id": "409353c6",
   "metadata": {},
   "outputs": [],
   "source": [
    "import matplotlib.pyplot as plt"
   ]
  },
  {
   "cell_type": "code",
   "execution_count": 48,
   "id": "ed14e478",
   "metadata": {},
   "outputs": [
    {
     "data": {
      "image/png": "[encoded data removed]",
      "text/plain": [
       "<Figure size 864x360 with 2 Axes>"
      ]
     },
     "metadata": {
      "needs_background": "light"
     },
     "output_type": "display_data"
    }
   ],
   "source": [
    "plt.figure(figsize=(12,5))\n",
    "plt.subplot(1,2,1)\n",
    "plt.plot(hist.history['accuracy'], color=\"blue\",linestyle=\"--\", label=\"train\")\n",
    "plt.plot(hist.history['val_accuracy'],color=\"red\", label=\"validation\")\n",
    "plt.xlabel(\"epoch\",fontsize=15)\n",
    "plt.ylabel(\"accuracy\", fontsize=15)\n",
    "plt.title(\"ACCURACY\", fontsize=18)\n",
    "plt.legend(fontsize=15)\n",
    "plt.grid(linestyle=\"--\")\n",
    "\n",
    "plt.subplot(1,2,2)\n",
    "plt.plot(hist.history['loss'], color=\"blue\",linestyle=\"--\", label=\"train\")\n",
    "plt.plot(hist.history['val_loss'],color=\"red\", label=\"validation\")\n",
    "plt.xlabel(\"epoch\",fontsize=15)\n",
    "plt.ylabel(\"loss\", fontsize=15)\n",
    "plt.title(\"LOSS\", fontsize=18)\n",
    "plt.legend(fontsize=15)\n",
    "plt.grid(linestyle=\"--\")"
   ]
  },
  {
   "cell_type": "code",
   "execution_count": null,
   "id": "0b5a90e7",
   "metadata": {},
   "outputs": [],
   "source": []
  }
 ],
 "metadata": {
  "kernelspec": {
   "display_name": "my tensor",
   "language": "python",
   "name": "my_tensor"
  },
  "language_info": {
   "codemirror_mode": {
    "name": "ipython",
    "version": 3
   },
   "file_extension": ".py",
   "mimetype": "text/x-python",
   "name": "python",
   "nbconvert_exporter": "python",
   "pygments_lexer": "ipython3",
   "version": "3.7.7"
  }
 },
 "nbformat": 4,
 "nbformat_minor": 5
}
